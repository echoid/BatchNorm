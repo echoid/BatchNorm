{
  "cells": [
    {
      "cell_type": "code",
      "execution_count": 44,
      "metadata": {
        "colab": {
          "base_uri": "https://localhost:8080/",
          "height": 85
        },
        "colab_type": "code",
        "id": "74ZkYf2YTn0s",
        "outputId": "32af9c46-79a2-4e33-e4fa-75977d062dc3"
      },
      "outputs": [],
      "source": [
        "import torch\n",
        "import torch.nn as nn\n",
        "import numpy as np\n",
        "import scipy.stats\n",
        "import scipy.io\n",
        "import scipy.sparse\n",
        "from scipy.io import loadmat\n",
        "import pandas as pd\n",
        "import matplotlib.pyplot as plt\n",
        "import torch.distributions as td\n",
        "\n",
        "from torch import nn, optim\n",
        "from torch.nn import functional as F\n",
        "\n",
        "from tqdm import tqdm\n",
        "from sklearn.ensemble import ExtraTreesRegressor\n",
        "from sklearn.experimental import enable_iterative_imputer\n",
        "from sklearn.linear_model import BayesianRidge\n",
        "from sklearn.impute import IterativeImputer\n",
        "from sklearn.impute import SimpleImputer"
      ]
    },
    {
      "cell_type": "code",
      "execution_count": 29,
      "metadata": {},
      "outputs": [],
      "source": [
        "from MIWAE_imputer_utility import *"
      ]
    },
    {
      "cell_type": "code",
      "execution_count": 27,
      "metadata": {
        "colab": {},
        "colab_type": "code",
        "id": "_SLCK6HRT7C2"
      },
      "outputs": [],
      "source": [
        "def rmse(xhat,xtrue,mask): # MSE function for imputations\n",
        "    xhat = np.array(xhat)\n",
        "    xtrue = np.array(xtrue)\n",
        "    return np.sqrt(np.mean(((1 - mask) * xtrue - (1 - mask) * xhat) ** 2) / np.mean(1 - mask))\n",
        "    return np.mean(np.power(xhat-xtrue,2)[~mask]) "
      ]
    },
    {
      "cell_type": "code",
      "execution_count": 34,
      "metadata": {
        "colab": {},
        "colab_type": "code",
        "id": "f0HjKh4WyB-Y"
      },
      "outputs": [],
      "source": [
        "cuda = False\n",
        "dataset_file = \"banknote\"\n",
        "use_bn = [True,True]\n",
        "h = 128 # number of hidden units in (same for all MLPs)\n",
        "d = 1 # dimension of the latent space\n",
        "K = 20 # number of IS during training\n",
        "bs = 64 # batch size\n",
        "n_epochs = 2002"
      ]
    },
    {
      "attachments": {},
      "cell_type": "markdown",
      "metadata": {
        "colab_type": "text",
        "id": "0RpNVgHjuPzC"
      },
      "source": [
        "# Loading the data"
      ]
    },
    {
      "attachments": {},
      "cell_type": "markdown",
      "metadata": {
        "colab_type": "text",
        "id": "DeBa5C1WXoGN"
      },
      "source": [
        "We'll use the Iris data set from scikit-learn:\n",
        "\n"
      ]
    },
    {
      "cell_type": "code",
      "execution_count": 32,
      "metadata": {
        "colab": {},
        "colab_type": "code",
        "id": "RIQ9W-Uv_ur0"
      },
      "outputs": [],
      "source": [
        "Xtrain, Xtest, Xtrain_mask, Xtest_mask, n, \\\n",
        "    p, x_train_hat_0, x_test_hat_0, x_train_hat,\\\n",
        "          x_test_hat,X_train_miss,X_test_miss = load_dataloader(dataset_file,missing_type = \"quantile\", \\\n",
        "                                       missing_name = \"Q4_complete\",seed = 1)\n",
        "\n",
        "\n",
        "# Create training dataset and dataloader\n",
        "train_dataset = MyDataset(Xtrain, Xtrain_mask, x_train_hat_0, x_train_hat)\n",
        "train_loader = DataLoader(train_dataset, batch_size=bs, shuffle=True)\n",
        "\n",
        "# Create testing dataset and dataloader\n",
        "test_dataset = MyDataset(Xtest, Xtest_mask, x_test_hat_0, x_test_hat)\n",
        "test_loader = DataLoader(test_dataset, batch_size=bs, shuffle=False)"
      ]
    },
    {
      "cell_type": "code",
      "execution_count": 33,
      "metadata": {},
      "outputs": [],
      "source": [
        "\n",
        "miwae_loss_train=np.array([])\n",
        "mse_train=np.array([])"
      ]
    },
    {
      "cell_type": "code",
      "execution_count": 36,
      "metadata": {},
      "outputs": [
        {
          "name": "stderr",
          "output_type": "stream",
          "text": [
            "  0%|          | 2/2002 [00:00<10:36,  3.14it/s]"
          ]
        },
        {
          "name": "stdout",
          "output_type": "stream",
          "text": [
            "Epoch 1\n",
            "MIWAE likelihood bound  -0.714158\n",
            "Imputation MSE  0.285036\n",
            "-----\n"
          ]
        },
        {
          "name": "stderr",
          "output_type": "stream",
          "text": [
            "  5%|▌         | 102/2002 [00:28<08:53,  3.56it/s]"
          ]
        },
        {
          "name": "stdout",
          "output_type": "stream",
          "text": [
            "Epoch 101\n",
            "MIWAE likelihood bound  0.00436834\n",
            "Imputation MSE  0.251926\n",
            "-----\n"
          ]
        },
        {
          "name": "stderr",
          "output_type": "stream",
          "text": [
            " 10%|█         | 202/2002 [00:56<08:26,  3.56it/s]"
          ]
        },
        {
          "name": "stdout",
          "output_type": "stream",
          "text": [
            "Epoch 201\n",
            "MIWAE likelihood bound  0.616275\n",
            "Imputation MSE  0.2044\n",
            "-----\n"
          ]
        },
        {
          "name": "stderr",
          "output_type": "stream",
          "text": [
            " 15%|█▌        | 302/2002 [01:23<07:57,  3.56it/s]"
          ]
        },
        {
          "name": "stdout",
          "output_type": "stream",
          "text": [
            "Epoch 301\n",
            "MIWAE likelihood bound  0.578529\n",
            "Imputation MSE  0.298008\n",
            "-----\n"
          ]
        },
        {
          "name": "stderr",
          "output_type": "stream",
          "text": [
            " 20%|██        | 402/2002 [01:51<07:32,  3.53it/s]"
          ]
        },
        {
          "name": "stdout",
          "output_type": "stream",
          "text": [
            "Epoch 401\n",
            "MIWAE likelihood bound  0.0590549\n",
            "Imputation MSE  0.333051\n",
            "-----\n"
          ]
        },
        {
          "name": "stderr",
          "output_type": "stream",
          "text": [
            " 25%|██▌       | 502/2002 [02:19<07:03,  3.54it/s]"
          ]
        },
        {
          "name": "stdout",
          "output_type": "stream",
          "text": [
            "Epoch 501\n",
            "MIWAE likelihood bound  -0.0183022\n",
            "Imputation MSE  0.326154\n",
            "-----\n"
          ]
        },
        {
          "name": "stderr",
          "output_type": "stream",
          "text": [
            " 30%|███       | 602/2002 [02:46<06:34,  3.55it/s]"
          ]
        },
        {
          "name": "stdout",
          "output_type": "stream",
          "text": [
            "Epoch 601\n",
            "MIWAE likelihood bound  0.547131\n",
            "Imputation MSE  0.29216\n",
            "-----\n"
          ]
        },
        {
          "name": "stderr",
          "output_type": "stream",
          "text": [
            " 35%|███▌      | 702/2002 [03:14<06:05,  3.56it/s]"
          ]
        },
        {
          "name": "stdout",
          "output_type": "stream",
          "text": [
            "Epoch 701\n",
            "MIWAE likelihood bound  0.875541\n",
            "Imputation MSE  0.356925\n",
            "-----\n"
          ]
        },
        {
          "name": "stderr",
          "output_type": "stream",
          "text": [
            " 40%|████      | 802/2002 [03:42<06:02,  3.31it/s]"
          ]
        },
        {
          "name": "stdout",
          "output_type": "stream",
          "text": [
            "Epoch 801\n",
            "MIWAE likelihood bound  0.42248\n",
            "Imputation MSE  0.260491\n",
            "-----\n"
          ]
        },
        {
          "name": "stderr",
          "output_type": "stream",
          "text": [
            " 45%|████▌     | 902/2002 [04:09<05:06,  3.58it/s]"
          ]
        },
        {
          "name": "stdout",
          "output_type": "stream",
          "text": [
            "Epoch 901\n",
            "MIWAE likelihood bound  -0.0455906\n",
            "Imputation MSE  0.311248\n",
            "-----\n"
          ]
        },
        {
          "name": "stderr",
          "output_type": "stream",
          "text": [
            " 50%|█████     | 1002/2002 [04:37<04:37,  3.60it/s]"
          ]
        },
        {
          "name": "stdout",
          "output_type": "stream",
          "text": [
            "Epoch 1001\n",
            "MIWAE likelihood bound  0.464554\n",
            "Imputation MSE  0.366297\n",
            "-----\n"
          ]
        },
        {
          "name": "stderr",
          "output_type": "stream",
          "text": [
            " 55%|█████▌    | 1102/2002 [05:04<04:08,  3.62it/s]"
          ]
        },
        {
          "name": "stdout",
          "output_type": "stream",
          "text": [
            "Epoch 1101\n",
            "MIWAE likelihood bound  0.202178\n",
            "Imputation MSE  0.355751\n",
            "-----\n"
          ]
        },
        {
          "name": "stderr",
          "output_type": "stream",
          "text": [
            " 60%|██████    | 1202/2002 [05:31<03:42,  3.60it/s]"
          ]
        },
        {
          "name": "stdout",
          "output_type": "stream",
          "text": [
            "Epoch 1201\n",
            "MIWAE likelihood bound  0.0443077\n",
            "Imputation MSE  0.333967\n",
            "-----\n"
          ]
        },
        {
          "name": "stderr",
          "output_type": "stream",
          "text": [
            " 65%|██████▌   | 1302/2002 [05:58<03:17,  3.55it/s]"
          ]
        },
        {
          "name": "stdout",
          "output_type": "stream",
          "text": [
            "Epoch 1301\n",
            "MIWAE likelihood bound  0.451903\n",
            "Imputation MSE  0.322709\n",
            "-----\n"
          ]
        },
        {
          "name": "stderr",
          "output_type": "stream",
          "text": [
            " 70%|███████   | 1402/2002 [06:26<02:46,  3.59it/s]"
          ]
        },
        {
          "name": "stdout",
          "output_type": "stream",
          "text": [
            "Epoch 1401\n",
            "MIWAE likelihood bound  -0.219\n",
            "Imputation MSE  0.310841\n",
            "-----\n"
          ]
        },
        {
          "name": "stderr",
          "output_type": "stream",
          "text": [
            " 75%|███████▌  | 1502/2002 [06:53<02:19,  3.59it/s]"
          ]
        },
        {
          "name": "stdout",
          "output_type": "stream",
          "text": [
            "Epoch 1501\n",
            "MIWAE likelihood bound  0.552659\n",
            "Imputation MSE  0.295927\n",
            "-----\n"
          ]
        },
        {
          "name": "stderr",
          "output_type": "stream",
          "text": [
            " 80%|████████  | 1602/2002 [07:21<01:50,  3.60it/s]"
          ]
        },
        {
          "name": "stdout",
          "output_type": "stream",
          "text": [
            "Epoch 1601\n",
            "MIWAE likelihood bound  0.442565\n",
            "Imputation MSE  0.204414\n",
            "-----\n"
          ]
        },
        {
          "name": "stderr",
          "output_type": "stream",
          "text": [
            " 85%|████████▌ | 1702/2002 [07:48<01:23,  3.61it/s]"
          ]
        },
        {
          "name": "stdout",
          "output_type": "stream",
          "text": [
            "Epoch 1701\n",
            "MIWAE likelihood bound  0.728641\n",
            "Imputation MSE  0.362759\n",
            "-----\n"
          ]
        },
        {
          "name": "stderr",
          "output_type": "stream",
          "text": [
            " 90%|█████████ | 1802/2002 [08:15<00:55,  3.63it/s]"
          ]
        },
        {
          "name": "stdout",
          "output_type": "stream",
          "text": [
            "Epoch 1801\n",
            "MIWAE likelihood bound  0.749381\n",
            "Imputation MSE  0.268738\n",
            "-----\n"
          ]
        },
        {
          "name": "stderr",
          "output_type": "stream",
          "text": [
            " 95%|█████████▌| 1902/2002 [08:42<00:27,  3.64it/s]"
          ]
        },
        {
          "name": "stdout",
          "output_type": "stream",
          "text": [
            "Epoch 1901\n",
            "MIWAE likelihood bound  0.863845\n",
            "Imputation MSE  0.339676\n",
            "-----\n"
          ]
        },
        {
          "name": "stderr",
          "output_type": "stream",
          "text": [
            "100%|██████████| 2002/2002 [09:09<00:00,  3.64it/s]"
          ]
        },
        {
          "name": "stdout",
          "output_type": "stream",
          "text": [
            "Epoch 2001\n",
            "MIWAE likelihood bound  0.717702\n",
            "Imputation MSE  0.379185\n",
            "-----\n"
          ]
        },
        {
          "name": "stderr",
          "output_type": "stream",
          "text": [
            "\n"
          ]
        }
      ],
      "source": [
        "# Create MiwaeImputer instance\n",
        "MIWAE = MiwaeImputer(p, d, h, K, cuda, use_bn)\n",
        "\n",
        "# Define optimizer\n",
        "optimizer = optim.Adam(MIWAE.parameters(), lr=1e-3)\n",
        "\n",
        "# Training loop\n",
        "for epoch in tqdm(range(n_epochs)):\n",
        "    MIWAE.train()\n",
        "\n",
        "    # perm = np.random.permutation(n)\n",
        "    # batches_data = np.array_split(xhat_0[perm, ], n / bs)\n",
        "    # batches_mask = np.array_split(mask[perm, ], n / bs)\n",
        "    batch_no = 0\n",
        "    for x, mask, x_hat_0, x_hat in train_loader:\n",
        "        batch_no += 1\n",
        "        optimizer.zero_grad()\n",
        "        MIWAE.zero_grad()\n",
        "        if cuda:\n",
        "            b_data = x_hat_0.float().cuda()\n",
        "            b_mask = mask.float().cuda()\n",
        "            x_hat = x_hat.float().cuda()\n",
        "        else:\n",
        "            b_data = x_hat_0.float()\n",
        "            b_mask = mask.float()\n",
        "            x_hat = x_hat.float()\n",
        "        \n",
        "\n",
        "        set_BN_layers_tracking_state(MIWAE, [False, False])\n",
        "\n",
        "        x_hat[~mask] = torch.from_numpy(MIWAE(b_data, b_mask, L=10).detach().numpy()[~mask]).to(x_hat.dtype)\n",
        "        loss = MIWAE.miwae_loss(iota_x=b_data, mask=b_mask)\n",
        "        loss.backward()\n",
        "        optimizer.step()\n",
        "\n",
        "        set_BN_layers_tracking_state(MIWAE, [True, True])\n",
        "\n",
        "        _ = MIWAE(x_hat.float(), b_mask.float(), L=10).cpu().detach().numpy()\n",
        "\n",
        "\n",
        "    if epoch % 100 == 1:\n",
        "        print('Epoch %g' % epoch)\n",
        "        if cuda:\n",
        "            print(\n",
        "                'MIWAE likelihood bound  %g' % (\n",
        "                        -np.log(K) - MIWAE.miwae_loss(iota_x=b_data.float().cuda(),\n",
        "                                                       mask=b_mask.float().cuda()).cpu().data.numpy()\n",
        "                )\n",
        "            )\n",
        "        else:\n",
        "            print(\n",
        "                'MIWAE likelihood bound  %g' % (\n",
        "                        -np.log(K) - MIWAE.miwae_loss(iota_x=b_data.float(),\n",
        "                                                       mask=b_mask.float()).data.numpy()\n",
        "                )\n",
        "            )\n",
        "\n",
        "        x_train_hat[~Xtrain_mask] = MIWAE.forward(torch.from_numpy(x_train_hat_0).float(), torch.from_numpy(Xtrain_mask).float(), L=10).data.numpy()[~Xtrain_mask]\n",
        "        err = np.array([mse(x_train_hat, Xtrain, Xtrain_mask)])\n",
        "        mse_train = np.append(mse_train, err, axis=0)\n",
        "        print('Imputation MSE  %g' % err)\n",
        "        print('-----')"
      ]
    },
    {
      "cell_type": "code",
      "execution_count": 37,
      "metadata": {},
      "outputs": [
        {
          "name": "stderr",
          "output_type": "stream",
          "text": [
            "e:\\ANACONDA\\envs\\py3.10\\lib\\site-packages\\sklearn\\impute\\_iterative.py:785: ConvergenceWarning: [IterativeImputer] Early stopping criterion not reached.\n",
            "  warnings.warn(\n"
          ]
        }
      ],
      "source": [
        "missforest = IterativeImputer(max_iter=20, estimator=ExtraTreesRegressor(n_estimators=100))\n",
        "iterative_ridge = IterativeImputer(max_iter=20, estimator=BayesianRidge())\n",
        "mean_imp = SimpleImputer(missing_values=np.nan, strategy='mean')\n",
        "\n",
        "# Train\n",
        "missforest.fit(X_train_miss)\n",
        "iterative_ridge.fit(X_train_miss)\n",
        "mean_imp.fit(X_train_miss)\n",
        "\n",
        "\n",
        "# Train set Evaluation\n",
        "xhat_mf_train = missforest.transform(X_train_miss)\n",
        "xhat_ridge_train = iterative_ridge.transform(X_train_miss)\n",
        "xhat_mean_train = mean_imp.transform(X_train_miss)\n",
        "\n"
      ]
    },
    {
      "cell_type": "code",
      "execution_count": 43,
      "metadata": {},
      "outputs": [
        {
          "name": "stdout",
          "output_type": "stream",
          "text": [
            "MF Test RMSE: 0.7170005529687637\n",
            "Ridge Test RMSE: 0.2625914941082166\n",
            "Mean Test RMSE: 0.2625914941082164\n",
            "MIWAE Test RMSE: 0.14693012242615563\n"
          ]
        }
      ],
      "source": [
        "# Test set Evaluation\n",
        "xhat_mf = missforest.transform(X_test_miss)\n",
        "mf_test = mse(xhat_mf, Xtest, Xtest_mask)\n",
        "\n",
        "xhat_ridge = iterative_ridge.transform(X_test_miss)\n",
        "ridge_test = mse(xhat_ridge, Xtest, Xtest_mask)\n",
        "\n",
        "xhat_mean = mean_imp.transform(X_test_miss)\n",
        "mean_test = mse(xhat_mean, Xtest, Xtest_mask)\n",
        "\n",
        "\n",
        "\n",
        "x_test_hat[~Xtest_mask] = MIWAE.forward(torch.from_numpy(x_test_hat_0).float(), torch.from_numpy(Xtest_mask).float(), L=10).data.numpy()[~Xtest_mask]\n",
        "MIWAE_test = mse(x_test_hat, Xtest, Xtest_mask)\n",
        "\n",
        "print(\"MF Test RMSE:\",mf_test)\n",
        "print(\"Ridge Test RMSE:\",ridge_test)\n",
        "print(\"Mean Test RMSE:\",mean_test)\n",
        "print(\"MIWAE Test RMSE:\",MIWAE_test)\n"
      ]
    },
    {
      "cell_type": "code",
      "execution_count": 42,
      "metadata": {},
      "outputs": [
        {
          "name": "stdout",
          "output_type": "stream",
          "text": [
            "MF Train RMSE: 0.028132801443424078\n",
            "Ridge Train RMSE: 0.24546697836990378\n",
            "Mean Train RMSE: 0.24546697836990397\n",
            "MIWAE Train RMSE: 0.3076030349960335\n"
          ]
        }
      ],
      "source": [
        "print(\"MF Train RMSE:\",mse(xhat_mf_train, Xtrain, Xtrain_mask))\n",
        "print(\"Ridge Train RMSE:\",mse(xhat_ridge_train, Xtrain, Xtrain_mask))\n",
        "print(\"Mean Train RMSE:\",mse(xhat_mean_train, Xtrain, Xtrain_mask))\n",
        "print(\"MIWAE Train RMSE:\",np.mean(mse_train))"
      ]
    },
    {
      "attachments": {},
      "cell_type": "markdown",
      "metadata": {},
      "source": [
        "We begin with the prior:"
      ]
    },
    {
      "cell_type": "code",
      "execution_count": 46,
      "metadata": {},
      "outputs": [
        {
          "data": {
            "image/png": "[encoded data removed]",
            "text/plain": [
              "<Figure size 640x480 with 1 Axes>"
            ]
          },
          "metadata": {},
          "output_type": "display_data"
        }
      ],
      "source": [
        "plt.plot(range(1,n_epochs,100),mse_train,color=\"blue\")\n",
        "plt.axhline(y=mse(xhat_mf_train, Xtrain, Xtrain_mask),  linestyle='-',color=\"red\")\n",
        "plt.axhline(y=mse(xhat_ridge_train, Xtrain, Xtrain_mask),  linestyle='-',color=\"orange\")\n",
        "plt.axhline(y=mse(xhat_mean_train, Xtrain, Xtrain_mask),  linestyle='-',color=\"green\")\n",
        "plt.legend([\"MIWAE\",\"missForest\",\"Iterative ridge\", \"Mean imputation\"])\n",
        "plt.title(\"Train Set Imputation MSE\")\n",
        "plt.xlabel(\"Epochs\")\n",
        "plt.show()"
      ]
    }
  ],
  "metadata": {
    "accelerator": "GPU",
    "colab": {
      "name": "MIWAE_Pytorch_exercises_demo_ProbAI.ipynb",
      "provenance": [],
      "version": "0.3.2"
    },
    "kernelspec": {
      "display_name": "Python 3",
      "name": "python3"
    },
    "language_info": {
      "codemirror_mode": {
        "name": "ipython",
        "version": 3
      },
      "file_extension": ".py",
      "mimetype": "text/x-python",
      "name": "python",
      "nbconvert_exporter": "python",
      "pygments_lexer": "ipython3",
      "version": "3.10.10"
    }
  },
  "nbformat": 4,
  "nbformat_minor": 0
}
