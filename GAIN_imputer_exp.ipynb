{
 "cells": [
  {
   "cell_type": "code",
   "execution_count": 23,
   "metadata": {},
   "outputs": [],
   "source": [
    "import torch\n",
    "import numpy as np\n",
    "import torch.nn as nn\n",
    "import pandas as pd\n",
    "# from tqdm import tqdm\n",
    "from tqdm import tqdm\n",
    "import matplotlib.pyplot as plt\n",
    "from utility import preprocess,get_dataset_loaders,Imputation_model,set_all_BN_layers_tracking_state,loss,impute_with_prediction"
   ]
  },
  {
   "cell_type": "code",
   "execution_count": 41,
   "metadata": {},
   "outputs": [],
   "source": [
    "dataset_file = 'Spam.csv'\n",
    "batch_size = 128\n",
    "epoch = 200"
   ]
  },
  {
   "cell_type": "code",
   "execution_count": 3,
   "metadata": {},
   "outputs": [],
   "source": [
    "trainX, testX, train_Mask, test_Mask, train_input, test_input, No, Dim = preprocess(dataset_file)"
   ]
  },
  {
   "cell_type": "code",
   "execution_count": 21,
   "metadata": {},
   "outputs": [],
   "source": [
    "train_loader , test_loader = get_dataset_loaders(trainX, testX, train_Mask, test_Mask, train_input, test_input)"
   ]
  },
  {
   "attachments": {},
   "cell_type": "markdown",
   "metadata": {},
   "source": [
    "## 2 Pass"
   ]
  },
  {
   "cell_type": "code",
   "execution_count": 53,
   "metadata": {},
   "outputs": [
    {
     "name": "stderr",
     "output_type": "stream",
     "text": [
      "100%|██████████| 200/200 [00:25<00:00,  7.95it/s]\n"
     ]
    }
   ],
   "source": [
    "imputer = Imputation_model(Dim, Dim, Dim)\n",
    "optimizer = torch.optim.Adam(params=imputer.parameters(),lr=0.0001)\n",
    "losses = []\n",
    "for it in tqdm(range(epoch)):\n",
    "    imputer.train()\n",
    "\n",
    "    batch_no = 0\n",
    "    total_loss = 0.0  # Variable to accumulate the loss across all batches\n",
    "\n",
    "    for truth_X, mask, data_X in train_loader:\n",
    "        batch_no += 1\n",
    "\n",
    "        set_all_BN_layers_tracking_state(imputer, False)\n",
    "        optimizer.zero_grad()\n",
    "\n",
    "        Imputer_loss = loss(truth=truth_X, mask=mask, data=data_X, imputer=imputer)[0]\n",
    "        total_loss += Imputer_loss.item()  # Accumulate the loss for each batch\n",
    "        Imputer_loss.backward()\n",
    "        optimizer.step()\n",
    "\n",
    "        set_all_BN_layers_tracking_state(imputer, True)\n",
    "        prediction = loss(truth=truth_X, mask=mask, data=data_X, imputer=imputer)[1]\n",
    "        imputed_data = impute_with_prediction(truth_X, mask, prediction)\n",
    "\n",
    "        _ = imputer(imputed_data, mask)\n",
    "\n",
    "        \n",
    "\n",
    "    average_loss = total_loss / batch_no  # Calculate the average loss for the epoch\n",
    "    # print('Iter: {}'.format(it), end='\\t')\n",
    "    # print('Train_loss: {:.4}'.format(np.sqrt(average_loss)))\n",
    "    losses.append(average_loss)"
   ]
  },
  {
   "cell_type": "code",
   "execution_count": 54,
   "metadata": {},
   "outputs": [
    {
     "name": "stdout",
     "output_type": "stream",
     "text": [
      "Final Test RMSE: 0.0681\n"
     ]
    }
   ],
   "source": [
    "with torch.no_grad():\n",
    "    imputer.eval()\n",
    "    MSE_total = []\n",
    "    for truth_X, mask, data_X in test_loader:\n",
    "\n",
    "        MSE, prediction =  loss(truth=truth_X, mask=mask, data=data_X,imputer = imputer )\n",
    "        imputed_data = impute_with_prediction(truth_X, mask, prediction)\n",
    "        MSE_total.append(MSE)\n",
    "        #print('Test_loss: {:.4}'.format(np.sqrt(MSE.item())))\n",
    "\n",
    "    #print([mse for mse in MSE_final]/len(MSE_final))\n",
    "\n",
    "MSE_tensor = torch.tensor(MSE_total)\n",
    "rmse_final = torch.sqrt(torch.mean(MSE_tensor))\n",
    "\n",
    "print('Final Test RMSE: {:.4f}'.format(rmse_final.item()))"
   ]
  },
  {
   "cell_type": "code",
   "execution_count": 56,
   "metadata": {},
   "outputs": [
    {
     "data": {
      "image/png": "[encoded data removed]",
      "text/plain": [
       "<Figure size 640x480 with 1 Axes>"
      ]
     },
     "metadata": {},
     "output_type": "display_data"
    }
   ],
   "source": [
    "plt.plot(losses)\n",
    "plt.xlabel('Epoch')\n",
    "plt.ylabel('Loss')\n",
    "plt.title('Two Pass Training Loss')\n",
    "plt.show()"
   ]
  },
  {
   "cell_type": "code",
   "execution_count": null,
   "metadata": {},
   "outputs": [],
   "source": []
  },
  {
   "cell_type": "markdown",
   "metadata": {},
   "source": [
    "## Single Pass"
   ]
  },
  {
   "cell_type": "code",
   "execution_count": 57,
   "metadata": {},
   "outputs": [
    {
     "name": "stderr",
     "output_type": "stream",
     "text": [
      "100%|██████████| 200/200 [00:19<00:00, 10.29it/s]\n"
     ]
    }
   ],
   "source": [
    "imputer = Imputation_model(Dim, Dim, Dim)\n",
    "optimizer = torch.optim.Adam(params=imputer.parameters(),lr=0.0001)\n",
    "losses = []\n",
    "for it in tqdm(range(epoch)):\n",
    "    imputer.train()\n",
    "\n",
    "    batch_no = 0\n",
    "    total_loss = 0.0  # Variable to accumulate the loss across all batches\n",
    "\n",
    "    for truth_X, mask, data_X in train_loader:\n",
    "        batch_no += 1\n",
    "\n",
    "        set_all_BN_layers_tracking_state(imputer, True)\n",
    "        optimizer.zero_grad()\n",
    "\n",
    "        Imputer_loss = loss(truth=truth_X, mask=mask, data=data_X, imputer=imputer)[0]\n",
    "        total_loss += Imputer_loss.item()  # Accumulate the loss for each batch\n",
    "        Imputer_loss.backward()\n",
    "        optimizer.step()\n",
    "\n",
    "        # set_all_BN_layers_tracking_state(imputer, True)\n",
    "        # prediction = loss(truth=truth_X, mask=mask, data=data_X, imputer=imputer)[1]\n",
    "        # imputed_data = impute_with_prediction(truth_X, mask, prediction)\n",
    "\n",
    "        # _ = imputer(imputed_data, mask)\n",
    "\n",
    "        \n",
    "\n",
    "    average_loss = total_loss / batch_no  # Calculate the average loss for the epoch\n",
    "    # print('Iter: {}'.format(it), end='\\t')\n",
    "    # print('Train_loss: {:.4}'.format(np.sqrt(average_loss)))\n",
    "    losses.append(average_loss)"
   ]
  },
  {
   "cell_type": "code",
   "execution_count": 58,
   "metadata": {},
   "outputs": [
    {
     "name": "stdout",
     "output_type": "stream",
     "text": [
      "Final Test RMSE: 0.0644\n"
     ]
    }
   ],
   "source": [
    "with torch.no_grad():\n",
    "    imputer.eval()\n",
    "    MSE_total = []\n",
    "    for truth_X, mask, data_X in test_loader:\n",
    "\n",
    "        MSE, prediction =  loss(truth=truth_X, mask=mask, data=data_X,imputer = imputer )\n",
    "        imputed_data = impute_with_prediction(truth_X, mask, prediction)\n",
    "        MSE_total.append(MSE)\n",
    "        #print('Test_loss: {:.4}'.format(np.sqrt(MSE.item())))\n",
    "\n",
    "    #print([mse for mse in MSE_final]/len(MSE_final))\n",
    "\n",
    "MSE_tensor = torch.tensor(MSE_total)\n",
    "rmse_final = torch.sqrt(torch.mean(MSE_tensor))\n",
    "\n",
    "print('Final Test RMSE: {:.4f}'.format(rmse_final.item()))"
   ]
  }
 ],
 "metadata": {
  "kernelspec": {
   "display_name": "py3.10",
   "language": "python",
   "name": "python3"
  },
  "language_info": {
   "codemirror_mode": {
    "name": "ipython",
    "version": 3
   },
   "file_extension": ".py",
   "mimetype": "text/x-python",
   "name": "python",
   "nbconvert_exporter": "python",
   "pygments_lexer": "ipython3",
   "version": "3.10.10"
  },
  "orig_nbformat": 4
 },
 "nbformat": 4,
 "nbformat_minor": 2
}
